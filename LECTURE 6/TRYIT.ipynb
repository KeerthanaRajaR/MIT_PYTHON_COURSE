{
 "cells": [
  {
   "cell_type": "markdown",
   "id": "8d2043b6-c7f6-4a49-87a2-28ac96195f81",
   "metadata": {},
   "source": [
    "# Bisection_search-square_Root"
   ]
  },
  {
   "cell_type": "code",
   "execution_count": 2,
   "id": "92ff56c8-2dc7-40f1-98c6-0abfd0b0e709",
   "metadata": {},
   "outputs": [
    {
     "name": "stdout",
     "output_type": "stream",
     "text": [
      "low = 4938.5 is close to square root of 9876\n",
      "low = 2469.75 is close to square root of 9876\n",
      "low = 1235.375 is close to square root of 9876\n",
      "low = 618.1875 is close to square root of 9876\n",
      "low = 309.59375 is close to square root of 9876\n",
      "low = 155.296875 is close to square root of 9876\n",
      "low = 78.1484375 is close to square root of 9876\n",
      "low = 116.72265625 is close to square root of 9876\n",
      "low = 97.435546875 is close to square root of 9876\n",
      "low = 107.0791015625 is close to square root of 9876\n",
      "low = 102.25732421875 is close to square root of 9876\n",
      "low = 99.846435546875 is close to square root of 9876\n",
      "low = 98.6409912109375 is close to square root of 9876\n",
      "low = 99.24371337890625 is close to square root of 9876\n",
      "low = 99.54507446289062 is close to square root of 9876\n",
      "low = 99.39439392089844 is close to square root of 9876\n",
      "low = 99.31905364990234 is close to square root of 9876\n",
      "low = 99.35672378540039 is close to square root of 9876\n",
      "low = 99.37555885314941 is close to square root of 9876\n",
      "low = 99.38497638702393 is close to square root of 9876\n",
      "low = 99.38026762008667 is close to square root of 9876\n",
      "low = 99.37791323661804 is close to square root of 9876\n",
      "low = 99.37909042835236 is close to square root of 9876\n",
      "low = 99.3785018324852 is close to square root of 9876\n",
      "low = 99.37820753455162 is close to square root of 9876\n",
      "99.37806038558483 is close to square root of 9876\n"
     ]
    }
   ],
   "source": [
    "y = 9876\n",
    "epsilon = 0.01\n",
    "if y >= 1:\n",
    "    low = 1.0\n",
    "    high = y\n",
    "else:\n",
    "    low = y\n",
    "    high = 1.0\n",
    "guess = (high + low)/2\n",
    "\n",
    "while abs(guess**2 - y) >= epsilon:\n",
    "    print(f'low = {str(guess)} is close to square root of {str(y)}')\n",
    "    if guess**2 < y:\n",
    "        low = guess\n",
    "    else:\n",
    "        high = guess\n",
    "    guess = (high + low)/2.0\n",
    "print(f'{str(guess)} is close to square root of {str(y)}')\n",
    "\n",
    "    "
   ]
  },
  {
   "cell_type": "markdown",
   "id": "d508b4c8-5e16-4913-8725-1f81d58ee7cf",
   "metadata": {},
   "source": [
    "# Newton-Raphson_root_finder"
   ]
  },
  {
   "cell_type": "code",
   "execution_count": 4,
   "id": "a130aa70-223c-4e3d-b63c-6275b4b93d49",
   "metadata": {},
   "outputs": [
    {
     "name": "stdout",
     "output_type": "stream",
     "text": [
      "num_guesses = 4\n",
      "square root of28.0is about 5.291534088380579\n"
     ]
    }
   ],
   "source": [
    "epsilon = 0.07\n",
    "k = 28.0\n",
    "num_guesses = 0\n",
    "guess = k/2.0\n",
    "\n",
    "while abs(guess*guess - k) >= epsilon: \n",
    "    num_guesses +=1\n",
    "    guess = guess - ((guess**2) - k)/(2*guess)\n",
    "print('num_guesses =', str(num_guesses))\n",
    "print('square root of' + str(k) +'is about ' + str(guess))"
   ]
  },
  {
   "cell_type": "markdown",
   "id": "300483af-4e52-4269-8a36-b7e307096215",
   "metadata": {},
   "source": [
    "# Slow_square_root"
   ]
  },
  {
   "cell_type": "code",
   "execution_count": 6,
   "id": "175ed381-cc6c-4d1c-b974-40f988a1a486",
   "metadata": {},
   "outputs": [
    {
     "name": "stdout",
     "output_type": "stream",
     "text": [
      "num_guesses = 2330687\n",
      "Failed on square root of 54321\n"
     ]
    }
   ],
   "source": [
    "x = 9\n",
    "epsilon = 0.01\n",
    "num_guesses = 0\n",
    "guess = 0.0\n",
    "increment = 0.0001\n",
    "while abs(guess**2 - x) >= epsilon and guess**2 <= x:\n",
    "    guess += increment\n",
    "    num_guesses +=1\n",
    "print('num_guesses =', num_guesses)\n",
    "if abs(guess**2 - x) >= epsilon:\n",
    "    print('Failed on square root of', x)\n",
    "else:\n",
    "    print(guess, 'is close to square root of', x)"
   ]
  },
  {
   "cell_type": "code",
   "execution_count": null,
   "id": "66fcdbb6-14e6-4a39-9661-b587509d0a8d",
   "metadata": {},
   "outputs": [],
   "source": []
  }
 ],
 "metadata": {
  "kernelspec": {
   "display_name": "Python 3 (ipykernel)",
   "language": "python",
   "name": "python3"
  },
  "language_info": {
   "codemirror_mode": {
    "name": "ipython",
    "version": 3
   },
   "file_extension": ".py",
   "mimetype": "text/x-python",
   "name": "python",
   "nbconvert_exporter": "python",
   "pygments_lexer": "ipython3",
   "version": "3.11.7"
  }
 },
 "nbformat": 4,
 "nbformat_minor": 5
}
