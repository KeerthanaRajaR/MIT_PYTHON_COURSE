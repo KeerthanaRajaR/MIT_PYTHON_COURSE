{
 "cells": [
  {
   "cell_type": "markdown",
   "id": "c32ad008-669d-4e78-841e-f9f5dc26aafd",
   "metadata": {},
   "source": [
    "# Bisection_search-square_Roo"
   ]
  },
  {
   "cell_type": "code",
   "execution_count": 1,
   "id": "93ae90a7-6e69-4154-b883-ff9228ae40e9",
   "metadata": {},
   "outputs": [
    {
     "name": "stdout",
     "output_type": "stream",
     "text": [
      "low = 27161.0 is close to square root of 54321\n",
      "low = 13581.0 is close to square root of 54321\n",
      "low = 6791.0 is close to square root of 54321\n",
      "low = 3396.0 is close to square root of 54321\n",
      "low = 1698.5 is close to square root of 54321\n",
      "low = 849.75 is close to square root of 54321\n",
      "low = 425.375 is close to square root of 54321\n",
      "low = 213.1875 is close to square root of 54321\n",
      "low = 319.28125 is close to square root of 54321\n",
      "low = 266.234375 is close to square root of 54321\n",
      "low = 239.7109375 is close to square root of 54321\n",
      "low = 226.44921875 is close to square root of 54321\n",
      "low = 233.080078125 is close to square root of 54321\n",
      "low = 229.7646484375 is close to square root of 54321\n",
      "low = 231.42236328125 is close to square root of 54321\n",
      "low = 232.251220703125 is close to square root of 54321\n",
      "low = 232.6656494140625 is close to square root of 54321\n",
      "low = 232.87286376953125 is close to square root of 54321\n",
      "low = 232.97647094726562 is close to square root of 54321\n",
      "low = 233.0282745361328 is close to square root of 54321\n",
      "low = 233.0541763305664 is close to square root of 54321\n",
      "low = 233.0671272277832 is close to square root of 54321\n",
      "low = 233.0736026763916 is close to square root of 54321\n",
      "low = 233.0703649520874 is close to square root of 54321\n",
      "low = 233.0687460899353 is close to square root of 54321\n",
      "low = 233.06793665885925 is close to square root of 54321\n",
      "low = 233.06834137439728 is close to square root of 54321\n",
      "low = 233.0685437321663 is close to square root of 54321\n",
      "233.0686449110508 is close to square root of 54321\n"
     ]
    }
   ],
   "source": [
    "x = 54321\n",
    "epsilon = 0.01\n",
    "if x >= 1:\n",
    "    low = 1.0\n",
    "    high = x\n",
    "else:\n",
    "    low = x\n",
    "    high = 1.0\n",
    "guess = (high + low)/2\n",
    "\n",
    "while abs(guess**2 - x) >= epsilon:\n",
    "    print(f'low = {str(guess)} is close to square root of {str(x)}')\n",
    "    if guess**2 < x:\n",
    "        low = guess\n",
    "    else:\n",
    "        high = guess\n",
    "    guess = (high + low)/2.0\n",
    "print(f'{str(guess)} is close to square root of {str(x)}')\n",
    "\n",
    "    "
   ]
  },
  {
   "cell_type": "markdown",
   "id": "aabc1edd-ea16-44fa-ad7d-d789e50342a5",
   "metadata": {},
   "source": [
    "# Newton-Raphson_root_finder"
   ]
  },
  {
   "cell_type": "code",
   "execution_count": 2,
   "id": "8ec3c51d-f969-40a5-bf19-982631d34824",
   "metadata": {},
   "outputs": [
    {
     "name": "stdout",
     "output_type": "stream",
     "text": [
      "num_guesses = 4\n",
      "square root of24.0is about 4.8989887432139305\n"
     ]
    }
   ],
   "source": [
    "epsilon = 0.01\n",
    "k = 24.0\n",
    "num_guesses = 0\n",
    "guess = k/2.0\n",
    "\n",
    "while abs(guess*guess - k) >= epsilon: \n",
    "    num_guesses +=1\n",
    "    guess = guess - ((guess**2) - k)/(2*guess)\n",
    "print('num_guesses =', str(num_guesses))\n",
    "print('square root of' + str(k) +'is about ' + str(guess))"
   ]
  },
  {
   "cell_type": "markdown",
   "id": "7d4eb597-78b6-4711-b181-8c67713c4cfa",
   "metadata": {},
   "source": [
    "# Slow_square_root"
   ]
  },
  {
   "cell_type": "code",
   "execution_count": null,
   "id": "a65c62a4-2231-4947-9fb8-cd201a018bfb",
   "metadata": {},
   "outputs": [],
   "source": []
  }
 ],
 "metadata": {
  "kernelspec": {
   "display_name": "Python 3 (ipykernel)",
   "language": "python",
   "name": "python3"
  },
  "language_info": {
   "codemirror_mode": {
    "name": "ipython",
    "version": 3
   },
   "file_extension": ".py",
   "mimetype": "text/x-python",
   "name": "python",
   "nbconvert_exporter": "python",
   "pygments_lexer": "ipython3",
   "version": "3.11.7"
  }
 },
 "nbformat": 4,
 "nbformat_minor": 5
}
