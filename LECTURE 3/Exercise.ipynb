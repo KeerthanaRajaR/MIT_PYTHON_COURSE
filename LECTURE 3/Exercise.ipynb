{
 "cells": [
  {
   "cell_type": "markdown",
   "id": "a4864934-1fc1-468b-bf40-fc6ff2a45dd2",
   "metadata": {},
   "source": [
    "# FOR LOOP"
   ]
  },
  {
   "cell_type": "code",
   "execution_count": 1,
   "id": "b15d23af-8b94-4b10-8df5-0b9a07d2ce6a",
   "metadata": {},
   "outputs": [
    {
     "name": "stdout",
     "output_type": "stream",
     "text": [
      "0\n",
      "1\n",
      "2\n",
      "3\n",
      "4\n"
     ]
    }
   ],
   "source": [
    "for n in range(5):\n",
    "    print(n)"
   ]
  },
  {
   "cell_type": "code",
   "execution_count": 5,
   "id": "b2b88735-f2c0-4fd1-9969-32774d98235d",
   "metadata": {},
   "outputs": [
    {
     "name": "stdout",
     "output_type": "stream",
     "text": [
      "hello world\n",
      "hello world\n",
      "hello world\n",
      "hello world\n",
      "hello world\n"
     ]
    }
   ],
   "source": [
    "n=5\n",
    "for i in range(n):\n",
    "    print('hello world')"
   ]
  },
  {
   "cell_type": "markdown",
   "id": "2644ca49-c547-473c-83ee-8e4ac9cdde6d",
   "metadata": {},
   "source": [
    "# WHILE LOOP"
   ]
  },
  {
   "cell_type": "code",
   "execution_count": 7,
   "id": "ab1083bc-3077-4fd4-8d64-b9cc9b6e6ddf",
   "metadata": {},
   "outputs": [
    {
     "name": "stdin",
     "output_type": "stream",
     "text": [
      "you are in the lost forest right\n",
      "you are in the lost forest hi\n"
     ]
    },
    {
     "name": "stdout",
     "output_type": "stream",
     "text": [
      "you got out of the lost forest!\n"
     ]
    }
   ],
   "source": [
    "where = input(\"you are in the lost forest\")\n",
    "while where == \"right\":\n",
    "    where = input(\"you are in the lost forest\")\n",
    "\n",
    "print(\"you got out of the lost forest!\")"
   ]
  },
  {
   "cell_type": "code",
   "execution_count": 8,
   "id": "265be23d-f2d6-4d5b-a099-40786be84d5c",
   "metadata": {},
   "outputs": [
    {
     "name": "stdin",
     "output_type": "stream",
     "text": [
      "Enter a non-negative integer: 5\n"
     ]
    },
    {
     "name": "stdout",
     "output_type": "stream",
     "text": [
      "x\n",
      "x\n",
      "x\n",
      "x\n",
      "x\n"
     ]
    }
   ],
   "source": [
    "n = int(input(\"Enter a non-negative integer:\"))\n",
    "while n > 0:\n",
    "    print('x')\n",
    "    n = n-1"
   ]
  },
  {
   "cell_type": "code",
   "execution_count": null,
   "id": "fc9cb699-c24b-4cc0-bc6b-48aae4cc60f4",
   "metadata": {},
   "outputs": [],
   "source": []
  }
 ],
 "metadata": {
  "kernelspec": {
   "display_name": "Python 3 (ipykernel)",
   "language": "python",
   "name": "python3"
  },
  "language_info": {
   "codemirror_mode": {
    "name": "ipython",
    "version": 3
   },
   "file_extension": ".py",
   "mimetype": "text/x-python",
   "name": "python",
   "nbconvert_exporter": "python",
   "pygments_lexer": "ipython3",
   "version": "3.11.7"
  }
 },
 "nbformat": 4,
 "nbformat_minor": 5
}
