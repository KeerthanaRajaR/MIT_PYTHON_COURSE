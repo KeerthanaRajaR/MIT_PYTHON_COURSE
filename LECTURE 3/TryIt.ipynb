{
 "cells": [
  {
   "cell_type": "markdown",
   "id": "3b6e412b-5d10-4c41-a7f1-89a5e718ea12",
   "metadata": {},
   "source": [
    "# FOR LOOP"
   ]
  },
  {
   "cell_type": "code",
   "execution_count": 6,
   "id": "ea905d06-6b54-4027-9a82-b300ca50f469",
   "metadata": {},
   "outputs": [
    {
     "name": "stdin",
     "output_type": "stream",
     "text": [
      "enter a number 10\n"
     ]
    },
    {
     "name": "stdout",
     "output_type": "stream",
     "text": [
      "0\n",
      "1\n",
      "2\n",
      "3\n",
      "4\n",
      "5\n",
      "6\n",
      "7\n",
      "8\n",
      "9\n"
     ]
    }
   ],
   "source": [
    "n=int(input(\"enter a number\"))\n",
    "for i in range(n):\n",
    "       print(i)"
   ]
  },
  {
   "cell_type": "code",
   "execution_count": 7,
   "id": "996bd815-f79d-4571-95d6-228bf4df1e43",
   "metadata": {},
   "outputs": [
    {
     "name": "stdout",
     "output_type": "stream",
     "text": [
      "0.5\n"
     ]
    }
   ],
   "source": [
    "for j in range(1,5,10):\n",
    "    print(j/2)"
   ]
  },
  {
   "cell_type": "code",
   "execution_count": 9,
   "id": "7276f4a3-6485-4680-b38b-af1cad9d1575",
   "metadata": {},
   "outputs": [
    {
     "name": "stdout",
     "output_type": "stream",
     "text": [
      "42\n"
     ]
    }
   ],
   "source": [
    "a = 0\n",
    "b = 3\n",
    "c = 10\n",
    "for i in range(b, c):\n",
    "    a += i\n",
    "\n",
    "print(a)"
   ]
  },
  {
   "cell_type": "markdown",
   "id": "0061bf47-d5d5-4500-ba8f-216dcaffdc9e",
   "metadata": {},
   "source": [
    "# WHILE LOOP"
   ]
  },
  {
   "cell_type": "code",
   "execution_count": 11,
   "id": "354eb382-a6c7-472f-9b0a-87765a696ab9",
   "metadata": {},
   "outputs": [
    {
     "name": "stdout",
     "output_type": "stream",
     "text": [
      "0\n",
      "1\n",
      "2\n",
      "3\n",
      "4\n",
      "5\n",
      "6\n",
      "7\n",
      "8\n",
      "9\n"
     ]
    }
   ],
   "source": [
    "n=0\n",
    "while(n<10):\n",
    "    print(n)\n",
    "    n=n+1"
   ]
  },
  {
   "cell_type": "code",
   "execution_count": 12,
   "id": "ae738895-8d91-4a2f-8c86-5383bb8db10d",
   "metadata": {},
   "outputs": [
    {
     "name": "stdin",
     "output_type": "stream",
     "text": [
      "Go left or right? right\n"
     ]
    },
    {
     "name": "stdout",
     "output_type": "stream",
     "text": [
      "2\n"
     ]
    },
    {
     "name": "stdin",
     "output_type": "stream",
     "text": [
      "Go left or right? left\n"
     ]
    },
    {
     "name": "stdout",
     "output_type": "stream",
     "text": [
      "you got out!\n"
     ]
    }
   ],
   "source": [
    "n = 1\n",
    "direction = input(\"Go left or right?\")\n",
    "while direction == \"right\":\n",
    "    n = n + 1 \n",
    "    print(n)\n",
    "    direction = input(\"Go left or right?\")\n",
    "\n",
    "print(\"you got out!\")"
   ]
  },
  {
   "cell_type": "code",
   "execution_count": null,
   "id": "5082073d-de0e-4b01-9b9b-651ee99df5f3",
   "metadata": {},
   "outputs": [],
   "source": []
  }
 ],
 "metadata": {
  "kernelspec": {
   "display_name": "Python 3 (ipykernel)",
   "language": "python",
   "name": "python3"
  },
  "language_info": {
   "codemirror_mode": {
    "name": "ipython",
    "version": 3
   },
   "file_extension": ".py",
   "mimetype": "text/x-python",
   "name": "python",
   "nbconvert_exporter": "python",
   "pygments_lexer": "ipython3",
   "version": "3.11.7"
  }
 },
 "nbformat": 4,
 "nbformat_minor": 5
}
