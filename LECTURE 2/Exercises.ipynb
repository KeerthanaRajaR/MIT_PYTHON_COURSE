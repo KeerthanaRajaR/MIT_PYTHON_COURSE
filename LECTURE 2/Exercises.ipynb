{
 "cells": [
  {
   "cell_type": "code",
   "execution_count": 1,
   "id": "57a1199b-50e8-4d59-9313-d0cc3d74f06d",
   "metadata": {},
   "outputs": [],
   "source": [
    "##COMPARISON OPERATORS"
   ]
  },
  {
   "cell_type": "code",
   "execution_count": 2,
   "id": "d379ab17-ee2a-4c6e-83b8-d0555ad79177",
   "metadata": {},
   "outputs": [
    {
     "data": {
      "text/plain": [
       "False"
      ]
     },
     "execution_count": 2,
     "metadata": {},
     "output_type": "execute_result"
    }
   ],
   "source": [
    "'a' == 'A'"
   ]
  },
  {
   "cell_type": "code",
   "execution_count": 3,
   "id": "ae59d55c-c911-4d3b-a581-c034491626fb",
   "metadata": {},
   "outputs": [
    {
     "name": "stdout",
     "output_type": "stream",
     "text": [
      "True\n",
      "False\n",
      "True\n",
      "False\n"
     ]
    }
   ],
   "source": [
    "print((2<3))\n",
    "print(not (2<3))\n",
    "print((2<3) and (3<4))\n",
    "print((2<3) and (3>4))"
   ]
  },
  {
   "cell_type": "code",
   "execution_count": 4,
   "id": "5742f0a7-0e92-4cc8-bc14-9ce135df153a",
   "metadata": {},
   "outputs": [
    {
     "name": "stdout",
     "output_type": "stream",
     "text": [
      "False\n",
      "False\n"
     ]
    }
   ],
   "source": [
    "pset_time = 15\n",
    "sleep_time = 8\n",
    "print(sleep_time > pset_time)\n",
    "\n",
    "derive = True\n",
    "drink = False\n",
    "both = drink and derive\n",
    "print(both)"
   ]
  },
  {
   "cell_type": "code",
   "execution_count": null,
   "id": "326726dd-40fa-431b-8ad9-5098ddb58303",
   "metadata": {},
   "outputs": [],
   "source": []
  },
  {
   "cell_type": "code",
   "execution_count": null,
   "id": "989939aa-ad07-4cf8-9d14-359edee3d3b5",
   "metadata": {},
   "outputs": [],
   "source": [
    "##STRINGS"
   ]
  },
  {
   "cell_type": "code",
   "execution_count": 5,
   "id": "d36e0e85-b833-4e4b-b74f-6bc31408429c",
   "metadata": {},
   "outputs": [],
   "source": [
    "a = 'me'\n",
    "b = \"myself\"\n",
    "c = a + b\n",
    "d = a + \" \" + b\n",
    "silly = a * 3"
   ]
  },
  {
   "cell_type": "code",
   "execution_count": 6,
   "id": "88ca2f58-66e7-4540-a7e8-664f174e3678",
   "metadata": {},
   "outputs": [
    {
     "name": "stdout",
     "output_type": "stream",
     "text": [
      "memyself\n",
      "me myself\n",
      "mememe\n"
     ]
    }
   ],
   "source": [
    "print(c)\n",
    "print(d)\n",
    "print(silly)"
   ]
  },
  {
   "cell_type": "code",
   "execution_count": null,
   "id": "df24553a-e88c-4cbb-909f-012d804750bc",
   "metadata": {},
   "outputs": [],
   "source": []
  },
  {
   "cell_type": "code",
   "execution_count": null,
   "id": "062f52c3-a5b5-4eda-b3c8-a50f81e4111d",
   "metadata": {},
   "outputs": [],
   "source": [
    "##PRINTING"
   ]
  },
  {
   "cell_type": "code",
   "execution_count": 7,
   "id": "d00dfa7a-aaf4-4780-9458-2994a85c8ea3",
   "metadata": {},
   "outputs": [
    {
     "name": "stdout",
     "output_type": "stream",
     "text": [
      "the 3 musketeers\n"
     ]
    }
   ],
   "source": [
    "a = \"the\"\n",
    "b = 3\n",
    "c = \"musketeers\"\n",
    "\n",
    "print(a,b,c)"
   ]
  },
  {
   "cell_type": "code",
   "execution_count": null,
   "id": "efce88e8-5bf4-473b-acce-09e0a87cc503",
   "metadata": {},
   "outputs": [],
   "source": []
  },
  {
   "cell_type": "code",
   "execution_count": null,
   "id": "51eb80b0-8236-44a4-bd3d-1d0f863fdce1",
   "metadata": {},
   "outputs": [],
   "source": [
    "##INDEXING"
   ]
  },
  {
   "cell_type": "code",
   "execution_count": 8,
   "id": "3bb31a59-8332-484c-b788-7903e22f5739",
   "metadata": {},
   "outputs": [
    {
     "data": {
      "text/plain": [
       "3"
      ]
     },
     "execution_count": 8,
     "metadata": {},
     "output_type": "execute_result"
    }
   ],
   "source": [
    "s = \"abc\"\n",
    "len(s)"
   ]
  },
  {
   "cell_type": "code",
   "execution_count": null,
   "id": "887ddfa2-705d-43e6-b10b-dfaa81963bcb",
   "metadata": {},
   "outputs": [],
   "source": []
  },
  {
   "cell_type": "code",
   "execution_count": null,
   "id": "4ec630e9-3376-45ae-a454-338d16cdc3b1",
   "metadata": {},
   "outputs": [],
   "source": [
    "##BRANCHING"
   ]
  },
  {
   "cell_type": "code",
   "execution_count": 9,
   "id": "24dc5e5a-feb7-4269-9ce9-265d90804253",
   "metadata": {},
   "outputs": [
    {
     "name": "stdout",
     "output_type": "stream",
     "text": [
      "impossible!\n"
     ]
    }
   ],
   "source": [
    "pset_time = 22\n",
    "sleep_time = 8\n",
    "if (pset_time + sleep_time) > 24:\n",
    "     print(\"impossible!\")\n",
    "elif (pset_time + sleep_time) >= 24:\n",
    "    print(\"full schedule!\")\n",
    "else:\n",
    "    leftover = abs(24-pset_time-sleep_time)\n",
    "    print(leftover,\"h of free time!\")\n",
    "    print(\"end of day\")"
   ]
  },
  {
   "cell_type": "code",
   "execution_count": null,
   "id": "9e1f6101-d1ce-46b6-b937-b42982df285c",
   "metadata": {},
   "outputs": [],
   "source": []
  }
 ],
 "metadata": {
  "kernelspec": {
   "display_name": "Python 3 (ipykernel)",
   "language": "python",
   "name": "python3"
  },
  "language_info": {
   "codemirror_mode": {
    "name": "ipython",
    "version": 3
   },
   "file_extension": ".py",
   "mimetype": "text/x-python",
   "name": "python",
   "nbconvert_exporter": "python",
   "pygments_lexer": "ipython3",
   "version": "3.11.7"
  }
 },
 "nbformat": 4,
 "nbformat_minor": 5
}
