{
 "cells": [
  {
   "cell_type": "code",
   "execution_count": 1,
   "id": "d6525c7d-0541-483f-80a5-68b70b82007a",
   "metadata": {},
   "outputs": [],
   "source": [
    "##COMPARISON OPERATORS"
   ]
  },
  {
   "cell_type": "code",
   "execution_count": 3,
   "id": "aae61795-be3a-44f6-a0b5-900678709056",
   "metadata": {},
   "outputs": [],
   "source": [
    "walk=True\n",
    "run=False\n",
    "both=walk or run"
   ]
  },
  {
   "cell_type": "code",
   "execution_count": 4,
   "id": "1a949eda-fd39-4dc1-9bf9-ba38ed4b3d62",
   "metadata": {},
   "outputs": [
    {
     "name": "stdout",
     "output_type": "stream",
     "text": [
      "True\n"
     ]
    }
   ],
   "source": [
    "print(both)"
   ]
  },
  {
   "cell_type": "code",
   "execution_count": 5,
   "id": "9a56f65d-47ec-4179-ad5a-174cd05c32fd",
   "metadata": {},
   "outputs": [
    {
     "name": "stdout",
     "output_type": "stream",
     "text": [
      "True\n",
      "False\n"
     ]
    }
   ],
   "source": [
    "print((8>3))\n",
    "print(not (8>3))"
   ]
  },
  {
   "cell_type": "code",
   "execution_count": null,
   "id": "735dd4c1-f4ae-4238-8d2e-e3808651f551",
   "metadata": {},
   "outputs": [],
   "source": []
  },
  {
   "cell_type": "code",
   "execution_count": 6,
   "id": "0fd948ce-bde9-4f77-9745-bc79c419ba43",
   "metadata": {},
   "outputs": [],
   "source": [
    "##STRINGS"
   ]
  },
  {
   "cell_type": "code",
   "execution_count": 7,
   "id": "e6873768-9abf-40c8-a9a0-3cf63aae396e",
   "metadata": {},
   "outputs": [],
   "source": [
    "a = 'keerthana'\n",
    "b = \"Raja\"\n",
    "c = a + b\n",
    "d = a + \" \" + b\n",
    "silly = a * 3"
   ]
  },
  {
   "cell_type": "code",
   "execution_count": 8,
   "id": "5d432696-050a-4acc-b157-400f5e7589bf",
   "metadata": {},
   "outputs": [
    {
     "name": "stdout",
     "output_type": "stream",
     "text": [
      "keerthanaRaja\n",
      "keerthana Raja\n",
      "keerthanakeerthanakeerthana\n"
     ]
    }
   ],
   "source": [
    "print(c)\n",
    "print(d)\n",
    "print(silly)"
   ]
  },
  {
   "cell_type": "code",
   "execution_count": null,
   "id": "783b21d3-772e-4504-b7f9-44f6a1daf42c",
   "metadata": {},
   "outputs": [],
   "source": []
  },
  {
   "cell_type": "code",
   "execution_count": 9,
   "id": "6d6249cb-a13d-42fa-8b37-f295617a6165",
   "metadata": {},
   "outputs": [],
   "source": [
    "##INDEXING"
   ]
  },
  {
   "cell_type": "code",
   "execution_count": 10,
   "id": "15831b5a-e676-4021-bdd3-ab0fad1441e0",
   "metadata": {},
   "outputs": [
    {
     "data": {
      "text/plain": [
       "9"
      ]
     },
     "execution_count": 10,
     "metadata": {},
     "output_type": "execute_result"
    }
   ],
   "source": [
    "s = \"keerthana\"\n",
    "len(s)"
   ]
  },
  {
   "cell_type": "code",
   "execution_count": null,
   "id": "87767ac8-71a5-4047-84ae-8ee6322f6291",
   "metadata": {},
   "outputs": [],
   "source": []
  },
  {
   "cell_type": "code",
   "execution_count": 11,
   "id": "b4e37996-eb77-4ed0-b86f-4c9dba45893d",
   "metadata": {},
   "outputs": [],
   "source": [
    "##PRINTING"
   ]
  },
  {
   "cell_type": "code",
   "execution_count": 12,
   "id": "d45213b7-ee89-41dc-be15-55bdc5cbbd81",
   "metadata": {},
   "outputs": [
    {
     "name": "stdout",
     "output_type": "stream",
     "text": [
      "keerthana 2 raja\n"
     ]
    }
   ],
   "source": [
    "a = \"keerthana\"\n",
    "b = 2\n",
    "c = \"raja\"\n",
    "\n",
    "print(a,b,c)"
   ]
  },
  {
   "cell_type": "code",
   "execution_count": null,
   "id": "45468e51-821b-4279-96ec-ee622dc85501",
   "metadata": {},
   "outputs": [],
   "source": []
  },
  {
   "cell_type": "code",
   "execution_count": 13,
   "id": "8578fd66-35b2-4b5b-839d-0057722376a8",
   "metadata": {},
   "outputs": [],
   "source": [
    "##BRANCHING"
   ]
  },
  {
   "cell_type": "code",
   "execution_count": null,
   "id": "da1a336a-031f-4811-8d58-ca4437aa9e13",
   "metadata": {},
   "outputs": [],
   "source": [
    "age=20\n",
    "if(age>18){\n",
    "    "
   ]
  }
 ],
 "metadata": {
  "kernelspec": {
   "display_name": "Python 3 (ipykernel)",
   "language": "python",
   "name": "python3"
  },
  "language_info": {
   "codemirror_mode": {
    "name": "ipython",
    "version": 3
   },
   "file_extension": ".py",
   "mimetype": "text/x-python",
   "name": "python",
   "nbconvert_exporter": "python",
   "pygments_lexer": "ipython3",
   "version": "3.11.7"
  }
 },
 "nbformat": 4,
 "nbformat_minor": 5
}
