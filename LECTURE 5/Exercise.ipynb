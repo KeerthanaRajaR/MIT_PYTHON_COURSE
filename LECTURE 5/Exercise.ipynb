{
 "cells": [
  {
   "cell_type": "code",
   "execution_count": 1,
   "id": "6c2a3755-9899-4476-9232-f14ca4de5e67",
   "metadata": {},
   "outputs": [
    {
     "name": "stdout",
     "output_type": "stream",
     "text": [
      "num_guesses = 59992\n",
      "5.999199999999357 is close to square root of 36\n"
     ]
    }
   ],
   "source": [
    "x = 36\n",
    "epsilon = 0.01\n",
    "num_guesses = 0\n",
    "guess = 0.0\n",
    "increment = 0.0001\n",
    "while abs(guess**2 - x) >= epsilon:\n",
    "    guess += increment\n",
    "    num_guesses +=1\n",
    "\n",
    "print(f'num_guesses = {num_guesses}')\n",
    "print(f'{guess} is close to square root of {x}')"
   ]
  },
  {
   "cell_type": "code",
   "execution_count": 2,
   "id": "dbff9c1f-e0d8-4078-8869-898b0c5c4efb",
   "metadata": {},
   "outputs": [
    {
     "name": "stdout",
     "output_type": "stream",
     "text": [
      "current guess = 9.999999999990033\n",
      "current guess**2 - x = 54221.0000000002\n",
      "current guess = 19.99999999996673\n",
      "current guess**2 - x = 53921.00000000133\n",
      "current guess = 29.999999999943423\n",
      "current guess**2 - x = 53421.0000000034\n",
      "current guess = 40.00000000020433\n",
      "current guess**2 - x = 52720.99999998365\n",
      "current guess = 50.000000000536296\n",
      "current guess**2 - x = 51820.99999994637\n",
      "current guess = 60.00000000086826\n",
      "current guess**2 - x = 50720.99999989581\n",
      "current guess = 70.00000000120022\n",
      "current guess**2 - x = 49420.99999983197\n",
      "current guess = 80.00000000153219\n",
      "current guess**2 - x = 47920.99999975485\n",
      "current guess = 90.00000000186415\n",
      "current guess**2 - x = 46220.999999664455\n",
      "current guess = 100.00000000219612\n",
      "current guess**2 - x = 44320.99999956078\n"
     ]
    },
    {
     "name": "stdin",
     "output_type": "stream",
     "text": [
      "continue? no\n"
     ]
    },
    {
     "name": "stdout",
     "output_type": "stream",
     "text": [
      "current guess = 110.00000000252808\n",
      "current guess**2 - x = 42220.999999443826\n",
      "current guess = 120.00000000286005\n",
      "current guess**2 - x = 39920.999999313586\n",
      "current guess = 130.000000003192\n",
      "current guess**2 - x = 37420.999999170075\n",
      "current guess = 140.00000000352398\n",
      "current guess**2 - x = 34720.999999013286\n",
      "current guess = 150.00000000385594\n",
      "current guess**2 - x = 31820.999998843217\n",
      "current guess = 160.0000000041879\n",
      "current guess**2 - x = 28720.999998659867\n",
      "current guess = 170.00000000451988\n",
      "current guess**2 - x = 25420.99999846324\n",
      "current guess = 180.00000000485184\n",
      "current guess**2 - x = 21920.999998253337\n",
      "current guess = 190.0000000051838\n",
      "current guess**2 - x = 18220.99999803015\n",
      "current guess = 200.00000000551577\n",
      "current guess**2 - x = 14320.99999779369\n"
     ]
    },
    {
     "name": "stdin",
     "output_type": "stream",
     "text": [
      "continue? 0\n"
     ]
    },
    {
     "name": "stdout",
     "output_type": "stream",
     "text": [
      "current guess = 210.00000000584774\n",
      "current guess**2 - x = 10220.99999754395\n",
      "current guess = 220.0000000061797\n",
      "current guess**2 - x = 5920.999997280931\n",
      "current guess = 230.00000000651167\n",
      "current guess**2 - x = 1420.9999970046338\n",
      "num_guesses = 2330687\n",
      "233.06870000661354 is close to square root of 54321\n"
     ]
    }
   ],
   "source": [
    "x = 54321\n",
    "epsilon = 0.01\n",
    "num_guesses = 0\n",
    "guess = 0.0\n",
    "increment = 0.0001\n",
    "while abs(guess**2 - x) >= epsilon and guess**2 <= x:\n",
    "    guess += increment\n",
    "    num_guesses +=1\n",
    "    if num_guesses%100000 == 0:\n",
    "        print(f'current guess = {guess}')\n",
    "        print(f'current guess**2 - x = {abs(guess*guess - x)}')\n",
    "    if num_guesses%1000000 == 0:\n",
    "        input('continue?')\n",
    "print(f'num_guesses = {num_guesses}')\n",
    "print(f'{guess} is close to square root of {x}')"
   ]
  },
  {
   "cell_type": "code",
   "execution_count": null,
   "id": "7bfa8086-e719-457d-9321-a1c584ea5571",
   "metadata": {},
   "outputs": [],
   "source": []
  }
 ],
 "metadata": {
  "kernelspec": {
   "display_name": "Python 3 (ipykernel)",
   "language": "python",
   "name": "python3"
  },
  "language_info": {
   "codemirror_mode": {
    "name": "ipython",
    "version": 3
   },
   "file_extension": ".py",
   "mimetype": "text/x-python",
   "name": "python",
   "nbconvert_exporter": "python",
   "pygments_lexer": "ipython3",
   "version": "3.11.7"
  }
 },
 "nbformat": 4,
 "nbformat_minor": 5
}
