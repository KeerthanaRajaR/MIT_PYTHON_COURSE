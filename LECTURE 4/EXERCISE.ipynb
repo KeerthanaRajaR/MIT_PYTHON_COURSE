{
 "cells": [
  {
   "cell_type": "markdown",
   "id": "05a84239-2803-4cba-8487-f0385c55a302",
   "metadata": {},
   "source": [
    "# BINARY NUMBERS"
   ]
  },
  {
   "cell_type": "code",
   "execution_count": 1,
   "id": "e6d81632-7d46-41ee-b422-55df146b6d1e",
   "metadata": {},
   "outputs": [
    {
     "name": "stdout",
     "output_type": "stream",
     "text": [
      "False\n",
      "0.9999999999999999 == 1.0\n"
     ]
    }
   ],
   "source": [
    "x = 0\n",
    "for i in range(10):\n",
    "    x += 0.1\n",
    "\n",
    "print(x == 1)\n",
    "print(x, '==', 10*0.1)"
   ]
  },
  {
   "cell_type": "markdown",
   "id": "40bd1a6f-ec2d-4c35-a9cf-90f5a43261f6",
   "metadata": {},
   "source": [
    "# BREAK STATEMENT"
   ]
  },
  {
   "cell_type": "code",
   "execution_count": 2,
   "id": "5788dabc-75c5-4a93-9703-eb9e5d2f3a9c",
   "metadata": {},
   "outputs": [
    {
     "name": "stdout",
     "output_type": "stream",
     "text": [
      "5\n"
     ]
    }
   ],
   "source": [
    "mysum = 0\n",
    "for i in range(5,11,2):\n",
    "    mysum += i\n",
    "    if mysum == 5:\n",
    "        break\n",
    "        mysum += 1\n",
    "\n",
    "print(mysum)"
   ]
  },
  {
   "cell_type": "markdown",
   "id": "43ccf235-9df6-4711-bee9-c2d2a7422975",
   "metadata": {},
   "source": [
    "# GUESS STATEMENT"
   ]
  },
  {
   "cell_type": "code",
   "execution_count": 4,
   "id": "b0bc6517-15ee-44ed-96a6-8436536145d2",
   "metadata": {},
   "outputs": [
    {
     "name": "stdin",
     "output_type": "stream",
     "text": [
      "Enter an integer: 5\n"
     ]
    },
    {
     "name": "stdout",
     "output_type": "stream",
     "text": [
      "5 is not a perfect square\n"
     ]
    }
   ],
   "source": [
    "guess = 0\n",
    "x = int(input(\"Enter an integer:\"))\n",
    "while guess**2 < x:\n",
    "    guess = guess + 1\n",
    "\n",
    "if guess**2 == x:\n",
    "    print(\"Square root of\", x, \"is\", guess)\n",
    "\n",
    "else:\n",
    "    print(x, \"is not a perfect square\")"
   ]
  },
  {
   "cell_type": "code",
   "execution_count": null,
   "id": "767597ef-8724-4f61-9379-f733a047058f",
   "metadata": {},
   "outputs": [],
   "source": []
  }
 ],
 "metadata": {
  "kernelspec": {
   "display_name": "Python 3 (ipykernel)",
   "language": "python",
   "name": "python3"
  },
  "language_info": {
   "codemirror_mode": {
    "name": "ipython",
    "version": 3
   },
   "file_extension": ".py",
   "mimetype": "text/x-python",
   "name": "python",
   "nbconvert_exporter": "python",
   "pygments_lexer": "ipython3",
   "version": "3.11.7"
  }
 },
 "nbformat": 4,
 "nbformat_minor": 5
}
