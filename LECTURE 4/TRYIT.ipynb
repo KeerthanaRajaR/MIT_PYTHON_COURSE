{
 "cells": [
  {
   "cell_type": "markdown",
   "id": "2b70c741-4d7f-46a6-873a-70a97d31ac77",
   "metadata": {},
   "source": [
    "# BINARY NUMBERS"
   ]
  },
  {
   "cell_type": "code",
   "execution_count": 2,
   "id": "e65cb40f-482f-4408-8b90-a90ec2579386",
   "metadata": {},
   "outputs": [
    {
     "name": "stdout",
     "output_type": "stream",
     "text": [
      "False\n",
      "25.0 == 5.0\n"
     ]
    }
   ],
   "source": [
    "x = 0\n",
    "for i in range(50):\n",
    "    x += 0.5\n",
    "\n",
    "print(x == 0)\n",
    "print(x, '==', 10*0.5)"
   ]
  },
  {
   "cell_type": "markdown",
   "id": "099e87db-fb72-4192-991d-2546124dcfa1",
   "metadata": {},
   "source": [
    "# BREAK STATEMENT"
   ]
  },
  {
   "cell_type": "code",
   "execution_count": 3,
   "id": "e807670a-4a64-4602-8ad3-78901f18732e",
   "metadata": {},
   "outputs": [
    {
     "name": "stdout",
     "output_type": "stream",
     "text": [
      "21\n"
     ]
    }
   ],
   "source": [
    "A = 0\n",
    "for i in range(5,11,2):\n",
    "    A += i\n",
    "    if A == 6:\n",
    "        break\n",
    "        A += 1\n",
    "\n",
    "print(A)"
   ]
  },
  {
   "cell_type": "markdown",
   "id": "b7b93d02-2dbb-41e8-afe8-f467866778e0",
   "metadata": {},
   "source": [
    "# GUESS STATEMENT"
   ]
  },
  {
   "cell_type": "code",
   "execution_count": null,
   "id": "265b665f-f55b-47cf-b49c-5b10648c37e8",
   "metadata": {},
   "outputs": [],
   "source": []
  }
 ],
 "metadata": {
  "kernelspec": {
   "display_name": "Python 3 (ipykernel)",
   "language": "python",
   "name": "python3"
  },
  "language_info": {
   "codemirror_mode": {
    "name": "ipython",
    "version": 3
   },
   "file_extension": ".py",
   "mimetype": "text/x-python",
   "name": "python",
   "nbconvert_exporter": "python",
   "pygments_lexer": "ipython3",
   "version": "3.11.7"
  }
 },
 "nbformat": 4,
 "nbformat_minor": 5
}
