{
 "cells": [
  {
   "cell_type": "code",
   "execution_count": 1,
   "id": "337f6d43-f604-4ca7-bfdf-8c83b11264de",
   "metadata": {},
   "outputs": [],
   "source": [
    "##VARIABLES"
   ]
  },
  {
   "cell_type": "code",
   "execution_count": 2,
   "id": "b7967623-e9c0-46b7-a0f3-7424c766c9eb",
   "metadata": {},
   "outputs": [
    {
     "name": "stdout",
     "output_type": "stream",
     "text": [
      "9\n"
     ]
    }
   ],
   "source": [
    "x = 2+7\n",
    "print(x)"
   ]
  },
  {
   "cell_type": "code",
   "execution_count": 3,
   "id": "ede77ead-7abe-4631-b87f-d5e8268ce5a1",
   "metadata": {},
   "outputs": [],
   "source": [
    "y=7"
   ]
  },
  {
   "cell_type": "code",
   "execution_count": 4,
   "id": "177b62b8-70e1-4daa-97aa-2bd42c9e517f",
   "metadata": {},
   "outputs": [
    {
     "name": "stdout",
     "output_type": "stream",
     "text": [
      "1.2857142857142858\n"
     ]
    }
   ],
   "source": [
    "print(x/y)"
   ]
  },
  {
   "cell_type": "code",
   "execution_count": null,
   "id": "e242ade5-413f-480c-a336-f998335ebf00",
   "metadata": {},
   "outputs": [],
   "source": []
  },
  {
   "cell_type": "code",
   "execution_count": 5,
   "id": "40a87a8e-c86c-41ce-9121-ad8227e0e84a",
   "metadata": {},
   "outputs": [],
   "source": [
    "##EXPRESSION"
   ]
  },
  {
   "cell_type": "code",
   "execution_count": 7,
   "id": "11a27fd8-5902-4b26-b6ab-613261776aac",
   "metadata": {},
   "outputs": [
    {
     "name": "stdout",
     "output_type": "stream",
     "text": [
      "-4\n",
      "22\n"
     ]
    }
   ],
   "source": [
    "print(5-9)\n",
    "print((4+7)*(3-1))"
   ]
  },
  {
   "cell_type": "code",
   "execution_count": null,
   "id": "1e189ba7-7ba2-484b-8a7e-c319ecb45a3c",
   "metadata": {},
   "outputs": [],
   "source": []
  },
  {
   "cell_type": "code",
   "execution_count": 8,
   "id": "c9d3c561-e1c7-4d7d-9033-74612e283a5a",
   "metadata": {},
   "outputs": [],
   "source": [
    "##ABSTRACTING EXPRESSION"
   ]
  },
  {
   "cell_type": "code",
   "execution_count": 9,
   "id": "05360a5a-da44-4d34-a349-a8db8e1e4ad0",
   "metadata": {},
   "outputs": [
    {
     "name": "stdout",
     "output_type": "stream",
     "text": [
      "45\n"
     ]
    }
   ],
   "source": [
    "length=5\n",
    "breadth=9\n",
    "area=length*breadth\n",
    "print(area)"
   ]
  },
  {
   "cell_type": "code",
   "execution_count": null,
   "id": "8152b426-4019-41d1-98f3-b83ce9ccdbd6",
   "metadata": {},
   "outputs": [],
   "source": []
  },
  {
   "cell_type": "code",
   "execution_count": 10,
   "id": "38e90c01-4b83-4f45-9730-7ad85265e758",
   "metadata": {},
   "outputs": [],
   "source": [
    "##OPERATORS"
   ]
  },
  {
   "cell_type": "code",
   "execution_count": null,
   "id": "1fc0c4c9-1ea3-4505-8c6e-2c113a113921",
   "metadata": {},
   "outputs": [],
   "source": []
  }
 ],
 "metadata": {
  "kernelspec": {
   "display_name": "Python 3 (ipykernel)",
   "language": "python",
   "name": "python3"
  },
  "language_info": {
   "codemirror_mode": {
    "name": "ipython",
    "version": 3
   },
   "file_extension": ".py",
   "mimetype": "text/x-python",
   "name": "python",
   "nbconvert_exporter": "python",
   "pygments_lexer": "ipython3",
   "version": "3.11.7"
  }
 },
 "nbformat": 4,
 "nbformat_minor": 5
}
