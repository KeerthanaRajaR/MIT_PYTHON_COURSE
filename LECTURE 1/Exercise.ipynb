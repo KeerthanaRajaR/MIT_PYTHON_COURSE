{
 "cells": [
  {
   "cell_type": "markdown",
   "id": "3b9151ff-5fea-44fd-a8dd-4ac765125129",
   "metadata": {},
   "source": [
    "##VARIABLES"
   ]
  },
  {
   "cell_type": "code",
   "execution_count": 1,
   "id": "1265e755-6cfd-4f3c-a767-ea7220d07a0e",
   "metadata": {},
   "outputs": [
    {
     "name": "stdout",
     "output_type": "stream",
     "text": [
      "-1\n"
     ]
    }
   ],
   "source": [
    "x = 5-6\n",
    "print(x)"
   ]
  },
  {
   "cell_type": "code",
   "execution_count": 2,
   "id": "cbc92a07-28df-43f1-b654-752f281815af",
   "metadata": {},
   "outputs": [
    {
     "data": {
      "text/plain": [
       "-1"
      ]
     },
     "execution_count": 2,
     "metadata": {},
     "output_type": "execute_result"
    }
   ],
   "source": [
    "x"
   ]
  },
  {
   "cell_type": "code",
   "execution_count": 3,
   "id": "a0509635-d458-4ba0-82fc-dec312948d08",
   "metadata": {},
   "outputs": [
    {
     "data": {
      "text/plain": [
       "0"
      ]
     },
     "execution_count": 3,
     "metadata": {},
     "output_type": "execute_result"
    }
   ],
   "source": [
    "x+1"
   ]
  },
  {
   "cell_type": "code",
   "execution_count": 4,
   "id": "f17dca48-6c4c-49ca-8d52-893f8bc51272",
   "metadata": {},
   "outputs": [],
   "source": [
    "y=3"
   ]
  },
  {
   "cell_type": "code",
   "execution_count": 5,
   "id": "7f5a2e99-8683-4299-a2bf-5d54e383f001",
   "metadata": {},
   "outputs": [
    {
     "name": "stdout",
     "output_type": "stream",
     "text": [
      "-3\n"
     ]
    }
   ],
   "source": [
    "print(x*y)"
   ]
  },
  {
   "cell_type": "markdown",
   "id": "0ce7e60f-aca5-4da0-8b83-a3995ed11963",
   "metadata": {},
   "source": []
  },
  {
   "cell_type": "markdown",
   "id": "3f0f0b20-9d25-41a5-8a9e-c779ef08ce00",
   "metadata": {},
   "source": [
    "##EXPRESSION"
   ]
  },
  {
   "cell_type": "code",
   "execution_count": 6,
   "id": "d0685cff-db11-4cae-a766-0065dc2d61e3",
   "metadata": {},
   "outputs": [
    {
     "name": "stdout",
     "output_type": "stream",
     "text": [
      "5\n",
      "35\n"
     ]
    }
   ],
   "source": [
    "print(3+2)\n",
    "print((4+2)*6-1)"
   ]
  },
  {
   "cell_type": "code",
   "execution_count": 11,
   "id": "a4241edf-03c3-4ba9-ae8b-43d87237659d",
   "metadata": {},
   "outputs": [
    {
     "name": "stdout",
     "output_type": "stream",
     "text": [
      "0.0625\n"
     ]
    }
   ],
   "source": [
    "print((13-4)/(12*12))"
   ]
  },
  {
   "cell_type": "code",
   "execution_count": null,
   "id": "76b38814-f3b1-45cd-b6bc-0443773995b5",
   "metadata": {},
   "outputs": [],
   "source": []
  },
  {
   "cell_type": "code",
   "execution_count": null,
   "id": "2b05c15d-1292-48b6-a066-6f083eabb2e3",
   "metadata": {},
   "outputs": [],
   "source": [
    "##ABSTRACTING EXPRESSION"
   ]
  },
  {
   "cell_type": "code",
   "execution_count": 7,
   "id": "56a85d16-48e8-4472-b6da-e38fa9cd8c6b",
   "metadata": {},
   "outputs": [],
   "source": [
    "pi = 355/113\n",
    "radius = 2.2\n",
    "area = pi*(radius**2)\n",
    "circumference = pi*(radius*2)"
   ]
  },
  {
   "cell_type": "code",
   "execution_count": 8,
   "id": "117a6bfc-f52c-4735-b482-e9739fddf86a",
   "metadata": {},
   "outputs": [
    {
     "name": "stdout",
     "output_type": "stream",
     "text": [
      "15.205309734513278\n",
      "13.823008849557525\n"
     ]
    }
   ],
   "source": [
    "print(area)\n",
    "print(circumference)"
   ]
  },
  {
   "cell_type": "code",
   "execution_count": null,
   "id": "6145ca88-ea2e-43fb-86c5-6cce56bba43e",
   "metadata": {},
   "outputs": [],
   "source": []
  },
  {
   "cell_type": "code",
   "execution_count": null,
   "id": "8ab09657-f0d2-42cc-b0e2-297ae637362e",
   "metadata": {},
   "outputs": [],
   "source": [
    "##TYPE"
   ]
  },
  {
   "cell_type": "code",
   "execution_count": 9,
   "id": "037b00a1-e801-45b8-8b53-cdf06adc0cab",
   "metadata": {},
   "outputs": [
    {
     "name": "stdout",
     "output_type": "stream",
     "text": [
      "<class 'int'>\n",
      "35.0\n"
     ]
    }
   ],
   "source": [
    "print(type((4+2)*6-1))\n",
    "print(float((4+2)*6-1))"
   ]
  },
  {
   "cell_type": "code",
   "execution_count": 10,
   "id": "31ca92e2-b45b-4ac9-bd72-619486b8a82b",
   "metadata": {},
   "outputs": [
    {
     "name": "stdout",
     "output_type": "stream",
     "text": [
      "<class 'int'>\n",
      "<class 'float'>\n"
     ]
    }
   ],
   "source": [
    "print(type(4*3))\n",
    "print(type(4.0*3))"
   ]
  },
  {
   "cell_type": "code",
   "execution_count": 12,
   "id": "9a1f9c71-8b54-47cf-838e-528dc3eb1c33",
   "metadata": {},
   "outputs": [],
   "source": [
    "##OPERATORS"
   ]
  },
  {
   "cell_type": "code",
   "execution_count": 13,
   "id": "3dedc15d-4eb3-405e-b39a-3d1c7c3ee3eb",
   "metadata": {},
   "outputs": [
    {
     "name": "stdout",
     "output_type": "stream",
     "text": [
      "1.6666666666666667\n",
      "1\n"
     ]
    }
   ],
   "source": [
    "print(5/3)\n",
    "print(5//3)"
   ]
  },
  {
   "cell_type": "code",
   "execution_count": null,
   "id": "1cddccc6-0ab7-414b-bc59-ec109e363f35",
   "metadata": {},
   "outputs": [],
   "source": []
  }
 ],
 "metadata": {
  "kernelspec": {
   "display_name": "Python 3 (ipykernel)",
   "language": "python",
   "name": "python3"
  },
  "language_info": {
   "codemirror_mode": {
    "name": "ipython",
    "version": 3
   },
   "file_extension": ".py",
   "mimetype": "text/x-python",
   "name": "python",
   "nbconvert_exporter": "python",
   "pygments_lexer": "ipython3",
   "version": "3.11.7"
  }
 },
 "nbformat": 4,
 "nbformat_minor": 5
}
